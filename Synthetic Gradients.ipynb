{
 "cells": [
  {
   "cell_type": "markdown",
   "metadata": {},
   "source": [
    "### Import libraries"
   ]
  },
  {
   "cell_type": "code",
   "execution_count": 1,
   "metadata": {},
   "outputs": [],
   "source": [
    "%matplotlib inline"
   ]
  },
  {
   "cell_type": "code",
   "execution_count": 2,
   "metadata": {
    "scrolled": true
   },
   "outputs": [],
   "source": [
    "import matplotlib.pyplot as plt\n",
    "import pandas\n",
    "import torch\n",
    "from torch import nn\n",
    "from torch.nn import functional as F\n",
    "from torchvision import datasets, transforms\n",
    "from torch.utils.data import DataLoader\n",
    "from torch import optim"
   ]
  },
  {
   "cell_type": "code",
   "execution_count": 3,
   "metadata": {},
   "outputs": [
    {
     "data": {
      "text/plain": [
       "'0.4.1'"
      ]
     },
     "execution_count": 3,
     "metadata": {},
     "output_type": "execute_result"
    }
   ],
   "source": [
    "torch.__version__"
   ]
  },
  {
   "cell_type": "markdown",
   "metadata": {},
   "source": [
    "### Download data:\n",
    "MNIST is used."
   ]
  },
  {
   "cell_type": "code",
   "execution_count": 4,
   "metadata": {},
   "outputs": [],
   "source": [
    "train_transform = transforms.Compose([transforms.ToTensor()])\n",
    "test_transform = transforms.Compose([transforms.ToTensor()])"
   ]
  },
  {
   "cell_type": "code",
   "execution_count": 5,
   "metadata": {
    "scrolled": true
   },
   "outputs": [],
   "source": [
    "mnist_train = datasets.MNIST('./data', train = True, transform=train_transform, download=True)\n",
    "mnist_test = datasets.MNIST('./data', train = False, transform=test_transform, download=True)"
   ]
  },
  {
   "cell_type": "code",
   "execution_count": 6,
   "metadata": {},
   "outputs": [],
   "source": [
    "train_size = len(mnist_train)\n",
    "test_size = len(mnist_test)"
   ]
  },
  {
   "cell_type": "code",
   "execution_count": 7,
   "metadata": {},
   "outputs": [],
   "source": [
    "trainloader = DataLoader(dataset=mnist_train, batch_size=256, num_workers=4, shuffle=True)\n",
    "testloader = DataLoader(dataset=mnist_test, batch_size=256, num_workers=4, shuffle=True)"
   ]
  },
  {
   "cell_type": "code",
   "execution_count": 8,
   "metadata": {
    "scrolled": true
   },
   "outputs": [
    {
     "name": "stdout",
     "output_type": "stream",
     "text": [
      "Data shape torch.Size([256, 1, 28, 28]) and label torch.Size([256])\n"
     ]
    }
   ],
   "source": [
    "data, label = next(iter(trainloader))\n",
    "print(\"Data shape %s and label %s\" % (data.shape, label.shape))"
   ]
  },
  {
   "cell_type": "code",
   "execution_count": 47,
   "metadata": {},
   "outputs": [
    {
     "data": {
      "text/plain": [
       "tensor(0.)"
      ]
     },
     "execution_count": 47,
     "metadata": {},
     "output_type": "execute_result"
    }
   ],
   "source": [
    "data.min()"
   ]
  },
  {
   "cell_type": "code",
   "execution_count": 9,
   "metadata": {},
   "outputs": [],
   "source": [
    "img_shape = [28, 28]"
   ]
  },
  {
   "cell_type": "markdown",
   "metadata": {},
   "source": [
    "## Support function, plot image:"
   ]
  },
  {
   "cell_type": "code",
   "execution_count": 10,
   "metadata": {},
   "outputs": [],
   "source": [
    "def plot_images(images, cls_true, cls_pred=None):\n",
    "    assert len(images) == len(cls_true) == 9\n",
    "    \n",
    "    # Create figure with 3x3 sub-plots.\n",
    "    fig, axes = plt.subplots(3, 3)\n",
    "    fig.subplots_adjust(hspace=0.3, wspace=0.3)\n",
    "\n",
    "    for i, ax in enumerate(axes.flat):\n",
    "        # Plot image.\n",
    "        ax.imshow(images[i].reshape(img_shape), cmap='binary')\n",
    "\n",
    "        # Show true and predicted classes.\n",
    "        if cls_pred is None:\n",
    "            xlabel = \"True: {0}\".format(cls_true[i])\n",
    "        else:\n",
    "            xlabel = \"True: {0}, Pred: {1}\".format(cls_true[i], cls_pred[i])\n",
    "\n",
    "        ax.set_xlabel(xlabel)\n",
    "        \n",
    "        # Remove ticks from the plot.\n",
    "        ax.set_xticks([])\n",
    "        ax.set_yticks([])\n",
    "        \n",
    "    # Ensure the plot is shown correctly with multiple plots\n",
    "    # in a single Notebook cell.\n",
    "    plt.show()"
   ]
  },
  {
   "cell_type": "code",
   "execution_count": 11,
   "metadata": {
    "scrolled": false
   },
   "outputs": [
    {
     "data": {
      "image/png": "[encoded data removed]",
      "text/plain": [
       "<Figure size 432x288 with 9 Axes>"
      ]
     },
     "metadata": {},
     "output_type": "display_data"
    }
   ],
   "source": [
    "plot_images(images=data[0:9,:, :].numpy(), cls_true=label[0:9])"
   ]
  },
  {
   "cell_type": "markdown",
   "metadata": {},
   "source": [
    "## Create model:"
   ]
  },
  {
   "cell_type": "code",
   "execution_count": 58,
   "metadata": {},
   "outputs": [],
   "source": [
    "class Nets(nn.Module):\n",
    "    def __init__(self, img_shape, hidden_length = 256, sg=False, sg_size = 512):\n",
    "        super(Nets, self).__init__()\n",
    "        \n",
    "        self.sg = sg\n",
    "        self.sg_size = sg_size\n",
    "        self.input_length = self.get_input_length(img_shape)\n",
    "            \n",
    "        self.hidden_length = hidden_length\n",
    "        self.fc1 = nn.Linear(self.input_length, self.hidden_length)\n",
    "        self.bn1 = nn.BatchNorm1d(self.hidden_length)\n",
    "        if self.sg:\n",
    "            self.sg1 = nn.Sequential(nn.Linear(self.hidden_length, self.sg_size),\n",
    "                                    nn.BatchNorm1d(self.sg_size),\n",
    "                                    nn.ReLU(),\n",
    "                                    nn.Linear(self.sg_size, self.sg_size),\n",
    "                                    nn.BatchNorm1d(self.sg_size),\n",
    "                                    nn.ReLU(),\n",
    "                                    nn.Linear(self.sg_size, self.hidden_length))\n",
    "            self.sg2 = nn.Sequential(nn.Linear(self.hidden_length, self.sg_size),\n",
    "                                    nn.BatchNorm1d(self.sg_size),\n",
    "                                    nn.ReLU(),\n",
    "                                    nn.Linear(self.sg_size, self.sg_size),\n",
    "                                    nn.BatchNorm1d(self.sg_size),\n",
    "                                    nn.ReLU(),\n",
    "                                    nn.Linear(self.sg_size, self.hidden_length))\n",
    "        self.fc2 = nn.Linear(self.hidden_length, self.hidden_length)\n",
    "        self.bn2 = nn.BatchNorm1d(self.hidden_length)\n",
    "\n",
    "        self.fc3 = nn.Linear(self.hidden_length, 10)\n",
    "    \n",
    "    def forward(self, x):\n",
    "        sg_tuples = list()\n",
    "        x = x.view(-1, self.input_length)\n",
    "        \n",
    "        # fisrt module\n",
    "        h1 = F.relu(self.bn1(self.fc1(x)))\n",
    "        if self.sg:\n",
    "            h1_clone = torch.tensor(h1.data, requires_grad=True)\n",
    "            h1_grad = self.sg1(h1_clone)\n",
    "            sg_tuples.append((h1, h1_grad, h1_clone))\n",
    "        else:\n",
    "            h1_clone = h1\n",
    "        \n",
    "        # second module\n",
    "        h2 = F.relu(self.bn2(self.fc2(h1_clone)))\n",
    "        if self.sg:\n",
    "            h2_clone = torch.tensor(h2.data, requires_grad=True)\n",
    "            h2_grad = self.sg2(h2_clone)\n",
    "            sg_tuples.append((h2, h2_grad, h2_clone))  \n",
    "        else:\n",
    "            h2_clone = h2  \n",
    "        \n",
    "        # last module\n",
    "        y = self.fc3(h2_clone)\n",
    "        \n",
    "        return sg_tuples, y\n",
    "\n",
    "    def get_input_length(self, img_shape):\n",
    "        if isinstance(img_shape, int):\n",
    "            input_length = img_shape**2\n",
    "        else:\n",
    "            input_length = img_shape[0] * img_shape[0]\n",
    "        return input_length\n",
    "    \n",
    "nets = Nets(img_shape)"
   ]
  },
  {
   "cell_type": "code",
   "execution_count": 13,
   "metadata": {
    "scrolled": false
   },
   "outputs": [
    {
     "data": {
      "text/plain": [
       "Nets(\n",
       "  (fc1): Linear(in_features=784, out_features=256, bias=True)\n",
       "  (bn1): BatchNorm1d(256, eps=1e-05, momentum=0.1, affine=True, track_running_stats=True)\n",
       "  (fc2): Linear(in_features=256, out_features=256, bias=True)\n",
       "  (bn2): BatchNorm1d(256, eps=1e-05, momentum=0.1, affine=True, track_running_stats=True)\n",
       "  (fc3): Linear(in_features=256, out_features=10, bias=True)\n",
       ")"
      ]
     },
     "execution_count": 13,
     "metadata": {},
     "output_type": "execute_result"
    }
   ],
   "source": [
    "nets"
   ]
  },
  {
   "cell_type": "code",
   "execution_count": 62,
   "metadata": {
    "scrolled": true
   },
   "outputs": [],
   "source": [
    "criterion = nn.CrossEntropyLoss()\n",
    "MSE_criterion = nn.MSELoss()"
   ]
  },
  {
   "cell_type": "markdown",
   "metadata": {},
   "source": [
    "## Training data"
   ]
  },
  {
   "cell_type": "code",
   "execution_count": 16,
   "metadata": {
    "scrolled": true
   },
   "outputs": [
    {
     "name": "stdout",
     "output_type": "stream",
     "text": [
      "Test loss 2.30299789505 Accuracy of the network on the 10000 test images: 11.0000 %\n"
     ]
    }
   ],
   "source": [
    "# support model:\n",
    "def test_model(model, testloader):\n",
    "    model.eval()\n",
    "    correct = 0\n",
    "    total = 0\n",
    "    total_loss = 0\n",
    "    with torch.no_grad():\n",
    "        for data in testloader:\n",
    "            images, labels = data\n",
    "            _, outputs = model(images)\n",
    "            loss = criterion(outputs, labels)\n",
    "            total_loss += loss.item() * images.size(0)\n",
    "            _, predicted = torch.max(outputs.data, 1)\n",
    "            total += labels.size(0)\n",
    "            correct += (predicted == labels).sum().item()\n",
    "    total_loss = total_loss / total\n",
    "    print('Test loss %s Accuracy of the network on the 10000 test images: %.4f %%' % (\n",
    "        total_loss, 100.0 * correct / total))\n",
    "    model.train()\n",
    "    return total_loss, 100.0 * correct / total\n",
    "test_loss, test_acc = test_model(nets, testloader)"
   ]
  },
  {
   "cell_type": "code",
   "execution_count": 63,
   "metadata": {
    "scrolled": false
   },
   "outputs": [],
   "source": [
    "def trainner(model, optimizer, n_epoch=2):\n",
    "    res_test = list()\n",
    "    for epoch in range(n_epoch):  # loop over the dataset multiple times\n",
    "        model.train()\n",
    "        running_loss = 0.0\n",
    "        total = 0.0\n",
    "        for i, data in enumerate(trainloader, 0):\n",
    "            # get the inputs\n",
    "            inputs, labels = data\n",
    "\n",
    "            # zero the parameter gradients\n",
    "            optimizer.zero_grad()\n",
    "\n",
    "            # forward + backward + optimize\n",
    "            \n",
    "            # forward\n",
    "            sg_tuples, outputs = nets(inputs)\n",
    "            \n",
    "            # backward the last module.\n",
    "            loss = criterion(outputs, labels)\n",
    "            loss.backward()\n",
    "            \n",
    "            for h, h_grad, h_clone in sg_tuples[::-1]:\n",
    "                # backward modules\n",
    "                h.backward(h_grad)\n",
    "\n",
    "                # backward Sythetic Grandient module\n",
    "                loss_sg = MSE_criterion(h_clone.grad, h_grad)\n",
    "                loss_sg.backward()\n",
    "            \n",
    "            # optimize\n",
    "            optimizer.step()\n",
    "\n",
    "            # print statistics\n",
    "            total += labels.size(0)\n",
    "            running_loss += loss.item() * labels.size(0)\n",
    "\n",
    "        print('[%d] Train loss: %.4f' %\n",
    "              (epoch + 1, running_loss / total))\n",
    "        running_loss = 0.0\n",
    "        total = 0.0\n",
    "\n",
    "        test_loss, test_acc = test_model(nets, testloader)\n",
    "        res_test.append((test_loss, test_acc))\n",
    "    return res_test\n",
    "    print('Finished Training')"
   ]
  },
  {
   "cell_type": "code",
   "execution_count": 40,
   "metadata": {},
   "outputs": [
    {
     "data": {
      "text/plain": [
       "Nets(\n",
       "  (fc1): Linear(in_features=784, out_features=256, bias=True)\n",
       "  (bn1): BatchNorm1d(256, eps=1e-05, momentum=0.1, affine=True, track_running_stats=True)\n",
       "  (fc2): Linear(in_features=256, out_features=256, bias=True)\n",
       "  (bn2): BatchNorm1d(256, eps=1e-05, momentum=0.1, affine=True, track_running_stats=True)\n",
       "  (fc3): Linear(in_features=256, out_features=10, bias=True)\n",
       ")"
      ]
     },
     "execution_count": 40,
     "metadata": {},
     "output_type": "execute_result"
    }
   ],
   "source": [
    "nets = Nets(img_shape)\n",
    "nets"
   ]
  },
  {
   "cell_type": "code",
   "execution_count": 29,
   "metadata": {},
   "outputs": [
    {
     "name": "stdout",
     "output_type": "stream",
     "text": [
      "[1] Train loss: 0.2664\n",
      "Test loss 0.179992648411 Accuracy of the network on the 10000 test images: 94.0000 %\n",
      "[2] Train loss: 0.1262\n",
      "Test loss 0.119336775231 Accuracy of the network on the 10000 test images: 96.0000 %\n",
      "[3] Train loss: 0.0984\n",
      "Test loss 0.124079413056 Accuracy of the network on the 10000 test images: 96.0000 %\n",
      "[4] Train loss: 0.0886\n",
      "Test loss 0.107461950302 Accuracy of the network on the 10000 test images: 96.0000 %\n",
      "[1] Train loss: 0.0468\n",
      "Test loss 0.0866003954411 Accuracy of the network on the 10000 test images: 97.0000 %\n",
      "[2] Train loss: 0.0319\n",
      "Test loss 0.0865964422464 Accuracy of the network on the 10000 test images: 97.0000 %\n",
      "[3] Train loss: 0.0256\n",
      "Test loss 0.0815018646717 Accuracy of the network on the 10000 test images: 97.0000 %\n",
      "[4] Train loss: 0.0229\n",
      "Test loss 0.0934065309286 Accuracy of the network on the 10000 test images: 97.0000 %\n",
      "[1] Train loss: 0.0097\n",
      "Test loss 0.0851707599878 Accuracy of the network on the 10000 test images: 98.0000 %\n",
      "[2] Train loss: 0.0056\n",
      "Test loss 0.0913232951164 Accuracy of the network on the 10000 test images: 98.0000 %\n",
      "[3] Train loss: 0.0050\n",
      "Test loss 0.0949168944836 Accuracy of the network on the 10000 test images: 98.0000 %\n",
      "[4] Train loss: 0.0041\n",
      "Test loss 0.107646379495 Accuracy of the network on the 10000 test images: 98.0000 %\n",
      "[1] Train loss: 0.0020\n",
      "Test loss 0.0980610173702 Accuracy of the network on the 10000 test images: 98.0000 %\n",
      "[2] Train loss: 0.0014\n",
      "Test loss 0.10179766016 Accuracy of the network on the 10000 test images: 98.0000 %\n",
      "[3] Train loss: 0.0011\n",
      "Test loss 0.103104461312 Accuracy of the network on the 10000 test images: 98.0000 %\n",
      "[4] Train loss: 0.0010\n",
      "Test loss 0.103476720881 Accuracy of the network on the 10000 test images: 98.0000 %\n",
      "[1] Train loss: 0.0009\n",
      "Test loss 0.104932617736 Accuracy of the network on the 10000 test images: 98.0000 %\n",
      "[2] Train loss: 0.0006\n",
      "Test loss 0.104224656403 Accuracy of the network on the 10000 test images: 98.0000 %\n",
      "[3] Train loss: 0.0008\n",
      "Test loss 0.104997289896 Accuracy of the network on the 10000 test images: 98.0000 %\n",
      "[4] Train loss: 0.0006\n",
      "Test loss 0.103853090072 Accuracy of the network on the 10000 test images: 98.0000 %\n",
      "[1] Train loss: 0.0005\n",
      "Test loss 0.1078476017 Accuracy of the network on the 10000 test images: 98.0000 %\n",
      "[2] Train loss: 0.0006\n",
      "Test loss 0.106459991801 Accuracy of the network on the 10000 test images: 98.0000 %\n",
      "[3] Train loss: 0.0005\n",
      "Test loss 0.106120008683 Accuracy of the network on the 10000 test images: 98.0000 %\n",
      "[4] Train loss: 0.0005\n",
      "Test loss 0.105817507815 Accuracy of the network on the 10000 test images: 98.0000 %\n",
      "[1] Train loss: 0.0004\n",
      "Test loss 0.106215851545 Accuracy of the network on the 10000 test images: 98.0000 %\n",
      "[2] Train loss: 0.0006\n",
      "Test loss 0.10553765769 Accuracy of the network on the 10000 test images: 98.0000 %\n",
      "[3] Train loss: 0.0004\n",
      "Test loss 0.105546422458 Accuracy of the network on the 10000 test images: 98.0000 %\n",
      "[4] Train loss: 0.0005\n",
      "Test loss 0.105576638103 Accuracy of the network on the 10000 test images: 98.0000 %\n"
     ]
    }
   ],
   "source": [
    "res_baseline = []\n",
    "for lr in [0.1, 0.03, 0.01, 0.003, 0.001, 0.0003, 0.0001]:\n",
    "    optimizer = optim.Adam(nets.parameters(), lr = lr)\n",
    "    res_baseline += trainner(nets, optimizer, 4)"
   ]
  },
  {
   "cell_type": "code",
   "execution_count": 59,
   "metadata": {},
   "outputs": [
    {
     "data": {
      "text/plain": [
       "Nets(\n",
       "  (fc1): Linear(in_features=784, out_features=256, bias=True)\n",
       "  (bn1): BatchNorm1d(256, eps=1e-05, momentum=0.1, affine=True, track_running_stats=True)\n",
       "  (sg1): Sequential(\n",
       "    (0): Linear(in_features=256, out_features=512, bias=True)\n",
       "    (1): BatchNorm1d(512, eps=1e-05, momentum=0.1, affine=True, track_running_stats=True)\n",
       "    (2): ReLU()\n",
       "    (3): Linear(in_features=512, out_features=512, bias=True)\n",
       "    (4): BatchNorm1d(512, eps=1e-05, momentum=0.1, affine=True, track_running_stats=True)\n",
       "    (5): ReLU()\n",
       "    (6): Linear(in_features=512, out_features=256, bias=True)\n",
       "  )\n",
       "  (sg2): Sequential(\n",
       "    (0): Linear(in_features=256, out_features=512, bias=True)\n",
       "    (1): BatchNorm1d(512, eps=1e-05, momentum=0.1, affine=True, track_running_stats=True)\n",
       "    (2): ReLU()\n",
       "    (3): Linear(in_features=512, out_features=512, bias=True)\n",
       "    (4): BatchNorm1d(512, eps=1e-05, momentum=0.1, affine=True, track_running_stats=True)\n",
       "    (5): ReLU()\n",
       "    (6): Linear(in_features=512, out_features=256, bias=True)\n",
       "  )\n",
       "  (fc2): Linear(in_features=256, out_features=256, bias=True)\n",
       "  (bn2): BatchNorm1d(256, eps=1e-05, momentum=0.1, affine=True, track_running_stats=True)\n",
       "  (fc3): Linear(in_features=256, out_features=10, bias=True)\n",
       ")"
      ]
     },
     "execution_count": 59,
     "metadata": {},
     "output_type": "execute_result"
    }
   ],
   "source": [
    "nets = Nets(img_shape, sg=True)\n",
    "nets"
   ]
  },
  {
   "cell_type": "code",
   "execution_count": 60,
   "metadata": {
    "scrolled": false
   },
   "outputs": [
    {
     "name": "stdout",
     "output_type": "stream",
     "text": [
      "[1] Train loss: 0.9929\n",
      "Test loss 0.728470699692 Accuracy of the network on the 10000 test images: 75.0000 %\n",
      "[2] Train loss: 0.7655\n",
      "Test loss 0.699283234596 Accuracy of the network on the 10000 test images: 76.0000 %\n",
      "[3] Train loss: 0.7236\n",
      "Test loss 0.639329090309 Accuracy of the network on the 10000 test images: 79.0000 %\n",
      "[4] Train loss: 0.6863\n",
      "Test loss 0.717643393898 Accuracy of the network on the 10000 test images: 79.0000 %\n",
      "[1] Train loss: 0.7545\n",
      "Test loss 0.72068272686 Accuracy of the network on the 10000 test images: 76.0000 %\n",
      "[2] Train loss: 0.8151\n",
      "Test loss 0.725952873421 Accuracy of the network on the 10000 test images: 75.0000 %\n",
      "[3] Train loss: 0.8004\n",
      "Test loss 0.772093284798 Accuracy of the network on the 10000 test images: 74.0000 %\n",
      "[4] Train loss: 0.7562\n",
      "Test loss 0.689762483215 Accuracy of the network on the 10000 test images: 77.0000 %\n",
      "[1] Train loss: 0.7099\n",
      "Test loss 0.679150976658 Accuracy of the network on the 10000 test images: 78.0000 %\n",
      "[2] Train loss: 0.7362\n",
      "Test loss 0.699989379883 Accuracy of the network on the 10000 test images: 77.0000 %\n",
      "[3] Train loss: 0.7406\n",
      "Test loss 0.711516788673 Accuracy of the network on the 10000 test images: 77.0000 %\n",
      "[4] Train loss: 0.7364\n",
      "Test loss 0.680954808712 Accuracy of the network on the 10000 test images: 78.0000 %\n",
      "[1] Train loss: 0.6931\n",
      "Test loss 0.656675942326 Accuracy of the network on the 10000 test images: 78.0000 %\n",
      "[2] Train loss: 0.6831\n",
      "Test loss 0.653021996403 Accuracy of the network on the 10000 test images: 79.0000 %\n",
      "[3] Train loss: 0.6781\n",
      "Test loss 0.644154133224 Accuracy of the network on the 10000 test images: 79.0000 %\n",
      "[4] Train loss: 0.6748\n",
      "Test loss 0.634071289921 Accuracy of the network on the 10000 test images: 79.0000 %\n",
      "[1] Train loss: 0.6575\n",
      "Test loss 0.627576478004 Accuracy of the network on the 10000 test images: 79.0000 %\n",
      "[2] Train loss: 0.6554\n",
      "Test loss 0.621838546467 Accuracy of the network on the 10000 test images: 80.0000 %\n",
      "[3] Train loss: 0.6549\n",
      "Test loss 0.631011581421 Accuracy of the network on the 10000 test images: 79.0000 %\n",
      "[4] Train loss: 0.6531\n",
      "Test loss 0.618496160889 Accuracy of the network on the 10000 test images: 80.0000 %\n",
      "[1] Train loss: 0.6494\n",
      "Test loss 0.613694950199 Accuracy of the network on the 10000 test images: 80.0000 %\n",
      "[2] Train loss: 0.6514\n",
      "Test loss 0.616662526512 Accuracy of the network on the 10000 test images: 80.0000 %\n",
      "[3] Train loss: 0.6474\n",
      "Test loss 0.61361757164 Accuracy of the network on the 10000 test images: 80.0000 %\n",
      "[4] Train loss: 0.6485\n",
      "Test loss 0.623484267616 Accuracy of the network on the 10000 test images: 80.0000 %\n",
      "[1] Train loss: 0.6501\n",
      "Test loss 0.618408339787 Accuracy of the network on the 10000 test images: 80.0000 %\n",
      "[2] Train loss: 0.6481\n",
      "Test loss 0.61680442934 Accuracy of the network on the 10000 test images: 80.0000 %\n",
      "[3] Train loss: 0.6482\n",
      "Test loss 0.619376128101 Accuracy of the network on the 10000 test images: 80.0000 %\n",
      "[4] Train loss: 0.6471\n",
      "Test loss 0.617526853895 Accuracy of the network on the 10000 test images: 80.0000 %\n"
     ]
    }
   ],
   "source": [
    "res_sg = []\n",
    "for lr in [0.1, 0.03, 0.01, 0.003, 0.001, 0.0003, 0.0001]:\n",
    "    optimizer = optim.Adam(nets.parameters(), lr = lr)\n",
    "    res_sg += trainner(nets, optimizer, 4)"
   ]
  },
  {
   "cell_type": "code",
   "execution_count": 61,
   "metadata": {
    "scrolled": false
   },
   "outputs": [
    {
     "data": {
      "text/plain": [
       "<matplotlib.legend.Legend at 0x7fbfa8688b90>"
      ]
     },
     "execution_count": 61,
     "metadata": {},
     "output_type": "execute_result"
    },
    {
     "data": {
      "image/png": "[encoded data removed]",
      "text/plain": [
       "<Figure size 720x432 with 1 Axes>"
      ]
     },
     "metadata": {
      "needs_background": "light"
     },
     "output_type": "display_data"
    }
   ],
   "source": [
    "def extract_acc(res):\n",
    "    return [acc/100.0 for loss, acc in res]\n",
    "# plot result:\n",
    "plt.figure(figsize=(10,6))\n",
    "plt.plot(extract_acc(res_baseline), label=\"backprop\")\n",
    "plt.plot(extract_acc(res_sg), label=\"sg\")\n",
    "plt.title(\"Synthetic Gradients on MNIST\")\n",
    "plt.xlabel(\"Epoch\")\n",
    "plt.ylabel(\"Accuracy\")\n",
    "plt.ylim([0.1,1.])\n",
    "plt.legend()"
   ]
  },
  {
   "cell_type": "code",
   "execution_count": 69,
   "metadata": {
    "scrolled": false
   },
   "outputs": [
    {
     "name": "stdout",
     "output_type": "stream",
     "text": [
      "[1] Train loss: 0.8865\n",
      "Test loss 0.693650905609 Accuracy of the network on the 10000 test images: 76.0000 %\n",
      "[2] Train loss: 0.6749\n",
      "Test loss 0.606348112988 Accuracy of the network on the 10000 test images: 79.0000 %\n",
      "[3] Train loss: 0.6469\n",
      "Test loss 0.527630741882 Accuracy of the network on the 10000 test images: 83.0000 %\n",
      "[4] Train loss: 0.6003\n",
      "Test loss 0.551804218102 Accuracy of the network on the 10000 test images: 82.0000 %\n",
      "[1] Train loss: 0.7259\n",
      "Test loss 0.730057224464 Accuracy of the network on the 10000 test images: 75.0000 %\n",
      "[2] Train loss: 0.7164\n",
      "Test loss 0.656775792885 Accuracy of the network on the 10000 test images: 78.0000 %\n",
      "[3] Train loss: 0.7314\n",
      "Test loss 0.759483711052 Accuracy of the network on the 10000 test images: 75.0000 %\n",
      "[4] Train loss: 0.7334\n",
      "Test loss 0.667026810551 Accuracy of the network on the 10000 test images: 76.0000 %\n",
      "[1] Train loss: 0.6532\n",
      "Test loss 0.634019625711 Accuracy of the network on the 10000 test images: 79.0000 %\n",
      "[2] Train loss: 0.6472\n",
      "Test loss 0.602420940161 Accuracy of the network on the 10000 test images: 80.0000 %\n",
      "[3] Train loss: 0.6286\n",
      "Test loss 0.58858339119 Accuracy of the network on the 10000 test images: 80.0000 %\n",
      "[4] Train loss: 0.6206\n",
      "Test loss 0.570235314703 Accuracy of the network on the 10000 test images: 81.0000 %\n",
      "[1] Train loss: 0.6038\n",
      "Test loss 0.5644966712 Accuracy of the network on the 10000 test images: 81.0000 %\n",
      "[2] Train loss: 0.5977\n",
      "Test loss 0.563053584766 Accuracy of the network on the 10000 test images: 81.0000 %\n",
      "[3] Train loss: 0.5964\n",
      "Test loss 0.562682105255 Accuracy of the network on the 10000 test images: 81.0000 %\n",
      "[4] Train loss: 0.5960\n",
      "Test loss 0.573854608154 Accuracy of the network on the 10000 test images: 80.0000 %\n",
      "[1] Train loss: 0.5884\n",
      "Test loss 0.558311233509 Accuracy of the network on the 10000 test images: 81.0000 %\n",
      "[2] Train loss: 0.5868\n",
      "Test loss 0.563302903843 Accuracy of the network on the 10000 test images: 81.0000 %\n",
      "[3] Train loss: 0.5883\n",
      "Test loss 0.5553530056 Accuracy of the network on the 10000 test images: 81.0000 %\n",
      "[4] Train loss: 0.5883\n",
      "Test loss 0.562606427383 Accuracy of the network on the 10000 test images: 81.0000 %\n",
      "[1] Train loss: 0.5837\n",
      "Test loss 0.552081081867 Accuracy of the network on the 10000 test images: 81.0000 %\n",
      "[2] Train loss: 0.5849\n",
      "Test loss 0.55603727932 Accuracy of the network on the 10000 test images: 81.0000 %\n",
      "[3] Train loss: 0.5875\n",
      "Test loss 0.556359270954 Accuracy of the network on the 10000 test images: 81.0000 %\n",
      "[4] Train loss: 0.5847\n",
      "Test loss 0.554843534184 Accuracy of the network on the 10000 test images: 81.0000 %\n",
      "[1] Train loss: 0.5845\n",
      "Test loss 0.554555934763 Accuracy of the network on the 10000 test images: 81.0000 %\n",
      "[2] Train loss: 0.5856\n",
      "Test loss 0.555537308931 Accuracy of the network on the 10000 test images: 81.0000 %\n",
      "[3] Train loss: 0.5835\n",
      "Test loss 0.554535074711 Accuracy of the network on the 10000 test images: 81.0000 %\n",
      "[4] Train loss: 0.5852\n",
      "Test loss 0.554757730341 Accuracy of the network on the 10000 test images: 82.0000 %\n"
     ]
    }
   ],
   "source": [
    "# Training lost in Synthetic gradients is very high 0.6471 compare to nomal model 0.0005.\n",
    "# Synthetic gradient modules's size will be increase to 1024\n",
    "nets = Nets(img_shape, sg=True, sg_size=1024)\n",
    "res_sg = []\n",
    "for lr in [0.1, 0.03, 0.01, 0.003, 0.001, 0.0003, 0.0001]:\n",
    "    optimizer = optim.Adam(nets.parameters(), lr = lr)\n",
    "    res_sg += trainner(nets, optimizer, 4)"
   ]
  },
  {
   "cell_type": "code",
   "execution_count": null,
   "metadata": {},
   "outputs": [],
   "source": [
    "# We need to find a more effecient way to train SG model."
   ]
  }
 ],
 "metadata": {
  "kernelspec": {
   "display_name": "Python 3",
   "language": "python",
   "name": "python3"
  },
  "language_info": {
   "codemirror_mode": {
    "name": "ipython",
    "version": 2
   },
   "file_extension": ".py",
   "mimetype": "text/x-python",
   "name": "python",
   "nbconvert_exporter": "python",
   "pygments_lexer": "ipython2",
   "version": "2.7.15"
  }
 },
 "nbformat": 4,
 "nbformat_minor": 2
}
